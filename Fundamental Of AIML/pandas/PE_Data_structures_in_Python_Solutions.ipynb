{
 "cells": [
  {
   "cell_type": "markdown",
   "metadata": {
    "colab_type": "text",
    "id": "rYtShAfQiy1E"
   },
   "source": [
    "## Lists, Dictionaries and Sets in Python"
   ]
  },
  {
   "cell_type": "markdown",
   "metadata": {
    "colab_type": "text",
    "id": "1OHR7Y7iiy1F"
   },
   "source": [
    "## Part 1\n",
    "\n",
    "### Lists in Python\n",
    "\n",
    "Sequences in Python are data structures that hold objects in an ordered array. Now, we will work on Lists, the most common sequence data types in Python."
   ]
  },
  {
   "cell_type": "code",
   "execution_count": null,
   "metadata": {
    "colab": {
     "base_uri": "https://localhost:8080/",
     "height": 34
    },
    "colab_type": "code",
    "id": "2yt15PZFiy1G",
    "outputId": "31a68de2-c853-4ba2-f0bd-259dc80adc9b"
   },
   "outputs": [
    {
     "name": "stdout",
     "output_type": "stream",
     "text": [
      "['learning', 'Python', 'is fun?', True]\n"
     ]
    }
   ],
   "source": [
    "#Example \n",
    "l1 = ['learning', \"Python\", 'is fun?', True]    # Create a list l1.\n",
    "print(l1)    # print list l1."
   ]
  },
  {
   "cell_type": "markdown",
   "metadata": {
    "colab_type": "text",
    "id": "Fp5nTsa5iy1K"
   },
   "source": [
    "List can also be created by using list() function. "
   ]
  },
  {
   "cell_type": "code",
   "execution_count": null,
   "metadata": {
    "colab": {
     "base_uri": "https://localhost:8080/",
     "height": 34
    },
    "colab_type": "code",
    "id": "TUUCHYtbiy1L",
    "outputId": "fd834c27-9c34-4564-cfa0-7e46c0349150"
   },
   "outputs": [
    {
     "name": "stdout",
     "output_type": "stream",
     "text": [
      "['learning', 'for', 'life', True]\n"
     ]
    }
   ],
   "source": [
    "#Example\n",
    "l2 = list((\"learning\", \"for\", \"life\", True))\n",
    "print(l2)"
   ]
  },
  {
   "cell_type": "markdown",
   "metadata": {
    "colab_type": "text",
    "id": "aMpnTK6Riy1P"
   },
   "source": [
    "Adding to an existing list\n",
    "\n",
    "### Question 1\n",
    "\n",
    "Add 10 to list l1 given above.\n",
    "\n",
    "[ **Hint:** Use **append**]"
   ]
  },
  {
   "cell_type": "code",
   "execution_count": null,
   "metadata": {
    "colab": {},
    "colab_type": "code",
    "id": "JxpETrCjiy1Q"
   },
   "outputs": [],
   "source": [
    "l1.append(10)    # Append a number = 10 to list l1."
   ]
  },
  {
   "cell_type": "code",
   "execution_count": null,
   "metadata": {
    "colab": {
     "base_uri": "https://localhost:8080/",
     "height": 34
    },
    "colab_type": "code",
    "id": "BTT6MGkbiy1S",
    "outputId": "f1e5925b-43a4-4cb3-f7c7-49be07b8e56b"
   },
   "outputs": [
    {
     "data": {
      "text/plain": [
       "['learning', 'Python', 'is fun?', True, 10]"
      ]
     },
     "execution_count": 4,
     "metadata": {
      "tags": []
     },
     "output_type": "execute_result"
    }
   ],
   "source": [
    "l1"
   ]
  },
  {
   "cell_type": "markdown",
   "metadata": {
    "colab_type": "text",
    "id": "7ScnpVD0iy1V"
   },
   "source": [
    "Removing from an existing list\n",
    "\n",
    "### Question 2\n",
    "\n",
    "Remove 10 from l1.\n",
    "\n",
    "[ **Hint:** Use **remove**]"
   ]
  },
  {
   "cell_type": "code",
   "execution_count": null,
   "metadata": {
    "colab": {},
    "colab_type": "code",
    "id": "UnGtqk2biy1W"
   },
   "outputs": [],
   "source": [
    "# Removes a given object from the list. It does not return any value.\n",
    "# It returns ValueError when the passed object is not present in the list.\n",
    "l1.remove(10)"
   ]
  },
  {
   "cell_type": "markdown",
   "metadata": {
    "colab_type": "text",
    "id": "1m6aIGIpiy1a"
   },
   "source": [
    "Joining 2 lists\n",
    "\n",
    "### Question 3\n",
    "\n",
    "[ **Hint: ** Use **+** operator or **extend**]"
   ]
  },
  {
   "cell_type": "code",
   "execution_count": null,
   "metadata": {
    "colab": {},
    "colab_type": "code",
    "id": "XeCGm-G3iy1a"
   },
   "outputs": [],
   "source": [
    "l1 = ['learning', \"Python\", 'is fun?', True]    # Create list l1.\n",
    "l2 = list((\"learning\", \"for\", \"life\", True))"
   ]
  },
  {
   "cell_type": "code",
   "execution_count": null,
   "metadata": {
    "colab": {
     "base_uri": "https://localhost:8080/",
     "height": 34
    },
    "colab_type": "code",
    "id": "cq5zURVxiy1g",
    "outputId": "26c8a4e7-c2e3-4075-fb60-39c60b7a9373"
   },
   "outputs": [
    {
     "data": {
      "text/plain": [
       "['learning', 'Python', 'is fun?', True, 'learning', 'for', 'life', True]"
      ]
     },
     "execution_count": 7,
     "metadata": {
      "tags": []
     },
     "output_type": "execute_result"
    }
   ],
   "source": [
    "l1+l2    # Use of \"+\"\" operator can easily add the whole of one list behind the other list and hence perform the concatenation."
   ]
  },
  {
   "cell_type": "code",
   "execution_count": null,
   "metadata": {
    "colab": {
     "base_uri": "https://localhost:8080/",
     "height": 34
    },
    "colab_type": "code",
    "id": "sEi87eMpiy1j",
    "outputId": "1cc7c017-34c6-4999-a356-d9120887df7d"
   },
   "outputs": [
    {
     "name": "stdout",
     "output_type": "stream",
     "text": [
      "['learning', 'Python', 'is fun?', True, 'learning', 'for', 'life', True]\n"
     ]
    }
   ],
   "source": [
    "# Extend:  Iterates over argument (in this example, argument = l2) and adding each element to the list and extending the list. \n",
    "# The length of the list increases by number of elements in it's argument.\n",
    "l1.extend(l2)\n",
    "print(l1)"
   ]
  },
  {
   "cell_type": "markdown",
   "metadata": {
    "colab_type": "text",
    "id": "t5RRcx8ciy1m"
   },
   "source": [
    "Number List\n",
    "\n",
    "### Question 4\n",
    "\n",
    "Find Range and Mean of l3.\n",
    "\n",
    "l3 = [2,4,6,8]\n",
    "\n",
    "[ **Hint: ** Use **len(),sum(), min(), max()** functions ]\n",
    " \n",
    "If you want to use standard functions like mean & range, you have to import them from numpy else you can calculate them the traditional way using formulas"
   ]
  },
  {
   "cell_type": "code",
   "execution_count": null,
   "metadata": {
    "colab": {},
    "colab_type": "code",
    "id": "Dt1oKrBCiy1m"
   },
   "outputs": [],
   "source": [
    "l3 = [2,4,6,8]   # Create list l3."
   ]
  },
  {
   "cell_type": "code",
   "execution_count": null,
   "metadata": {
    "colab": {
     "base_uri": "https://localhost:8080/",
     "height": 34
    },
    "colab_type": "code",
    "id": "s84_We_viy1p",
    "outputId": "adf92264-be61-47be-bc9c-0f060b5d4953"
   },
   "outputs": [
    {
     "data": {
      "text/plain": [
       "20"
      ]
     },
     "execution_count": 10,
     "metadata": {
      "tags": []
     },
     "output_type": "execute_result"
    }
   ],
   "source": [
    "sum(l3)    # Sums up the numbers in the list."
   ]
  },
  {
   "cell_type": "code",
   "execution_count": null,
   "metadata": {
    "colab": {
     "base_uri": "https://localhost:8080/",
     "height": 34
    },
    "colab_type": "code",
    "id": "eFpd8rftiy1v",
    "outputId": "27e44d34-f6b3-4251-d6b9-e116a0903f10"
   },
   "outputs": [
    {
     "data": {
      "text/plain": [
       "4"
      ]
     },
     "execution_count": 11,
     "metadata": {
      "tags": []
     },
     "output_type": "execute_result"
    }
   ],
   "source": [
    "len(l3)    # Returns length of list."
   ]
  },
  {
   "cell_type": "code",
   "execution_count": null,
   "metadata": {
    "colab": {
     "base_uri": "https://localhost:8080/",
     "height": 34
    },
    "colab_type": "code",
    "id": "xYfloVXgiy1x",
    "outputId": "a5251116-cc56-4038-ac01-36392053829a"
   },
   "outputs": [
    {
     "name": "stdout",
     "output_type": "stream",
     "text": [
      "mean: 5.0\n"
     ]
    }
   ],
   "source": [
    "print(\"mean:\",sum(l3)/len(l3))    # calculate mean/average of list by using sum and len functions."
   ]
  },
  {
   "cell_type": "code",
   "execution_count": null,
   "metadata": {
    "colab": {
     "base_uri": "https://localhost:8080/",
     "height": 34
    },
    "colab_type": "code",
    "id": "ZZbLqcCqiy11",
    "outputId": "acf72666-0135-4236-db63-d3aa035c4d85"
   },
   "outputs": [
    {
     "data": {
      "text/plain": [
       "2"
      ]
     },
     "execution_count": 13,
     "metadata": {
      "tags": []
     },
     "output_type": "execute_result"
    }
   ],
   "source": [
    "min(l3)    # Returns the minimum value of a list."
   ]
  },
  {
   "cell_type": "code",
   "execution_count": null,
   "metadata": {
    "colab": {
     "base_uri": "https://localhost:8080/",
     "height": 34
    },
    "colab_type": "code",
    "id": "YL7XQnZXiy14",
    "outputId": "f558de6d-a9a8-4799-9a0c-986f38d7df48"
   },
   "outputs": [
    {
     "data": {
      "text/plain": [
       "8"
      ]
     },
     "execution_count": 14,
     "metadata": {
      "tags": []
     },
     "output_type": "execute_result"
    }
   ],
   "source": [
    "max(l3)    # Returns the maximum value of a list."
   ]
  },
  {
   "cell_type": "code",
   "execution_count": null,
   "metadata": {
    "colab": {
     "base_uri": "https://localhost:8080/",
     "height": 34
    },
    "colab_type": "code",
    "id": "fUyE1NTfiy18",
    "outputId": "49a2ee93-4770-4969-8faf-105fd6707efb"
   },
   "outputs": [
    {
     "name": "stdout",
     "output_type": "stream",
     "text": [
      "range: 6\n"
     ]
    }
   ],
   "source": [
    "print(\"range:\",max(l3)-min(l3))    "
   ]
  },
  {
   "cell_type": "markdown",
   "metadata": {
    "colab_type": "text",
    "id": "jK-VRkb0iy2B"
   },
   "source": [
    "Count the occurances of an element in a given list.\n",
    "\n",
    "### Question 5\n",
    "Append the given sequence of numbers to l3 (given above) 0,1,3,3,5,5,7,9. Count the occurences of 5 in l3.\n",
    "\n",
    "[ **Hint: ** Use ** + operator to add multiple elements in the array and count() function to print the occurences**]"
   ]
  },
  {
   "cell_type": "code",
   "execution_count": null,
   "metadata": {
    "colab": {
     "base_uri": "https://localhost:8080/",
     "height": 34
    },
    "colab_type": "code",
    "id": "It445_0iiy2C",
    "outputId": "bcd0b04a-2857-4afe-f971-c3a3e4d4d1f6"
   },
   "outputs": [
    {
     "data": {
      "text/plain": [
       "2"
      ]
     },
     "execution_count": 16,
     "metadata": {
      "tags": []
     },
     "output_type": "execute_result"
    }
   ],
   "source": [
    "(l3 + [0,1,3,3,5,5,7,9]).count(5)    # Returns count of how many times a given object occurs in list."
   ]
  },
  {
   "cell_type": "markdown",
   "metadata": {
    "colab_type": "text",
    "id": "j_TIVA98iy2G"
   },
   "source": [
    "Sorting and Reversing a list\n",
    "\n",
    "### Question 6\n",
    "sort and print l3 in ascending and descending order sequentially (given above)\n",
    "\n",
    "**(Hint: Use .sort() function)**"
   ]
  },
  {
   "cell_type": "code",
   "execution_count": null,
   "metadata": {
    "colab": {
     "base_uri": "https://localhost:8080/",
     "height": 34
    },
    "colab_type": "code",
    "id": "2Sj1_hYLiy2H",
    "outputId": "8d6579b1-3ea8-460b-9689-1e258fda9b4c"
   },
   "outputs": [
    {
     "name": "stdout",
     "output_type": "stream",
     "text": [
      "[8, 6, 4, 2]\n"
     ]
    }
   ],
   "source": [
    "l3.sort(reverse = True)    # This function can be used to sort a list in ascending, descending or user defined order.\n",
    "print(l3)"
   ]
  },
  {
   "cell_type": "markdown",
   "metadata": {
    "colab_type": "text",
    "id": "gq1U5AVeiy2J"
   },
   "source": [
    "### Functions"
   ]
  },
  {
   "cell_type": "markdown",
   "metadata": {
    "colab_type": "text",
    "id": "Y3i0KEbviy2K"
   },
   "source": [
    "**Example:**\n",
    "\n",
    "**def** function_name(args)**:**\n",
    "    \n",
    "    function code goes here"
   ]
  },
  {
   "cell_type": "markdown",
   "metadata": {
    "colab_type": "text",
    "id": "nzy_IPsSiy2K"
   },
   "source": [
    "### Question 7\n",
    "\n",
    "Define a function with name **sum_3** which can take 3 numbers as input, and returns sum of them."
   ]
  },
  {
   "cell_type": "code",
   "execution_count": null,
   "metadata": {
    "colab": {},
    "colab_type": "code",
    "id": "Gn4BEoLbiy2L"
   },
   "outputs": [],
   "source": [
    "def sum_3(a,b,c): \n",
    "    d = a+b+c \n",
    "    return d"
   ]
  },
  {
   "cell_type": "code",
   "execution_count": null,
   "metadata": {
    "colab": {
     "base_uri": "https://localhost:8080/",
     "height": 34
    },
    "colab_type": "code",
    "id": "pT6i1aPXiy2N",
    "outputId": "3cb35bfa-2b23-4b63-d684-7fb5f645688e"
   },
   "outputs": [
    {
     "data": {
      "text/plain": [
       "10"
      ]
     },
     "execution_count": 19,
     "metadata": {
      "tags": []
     },
     "output_type": "execute_result"
    }
   ],
   "source": [
    "sum_3(2,3,5)"
   ]
  },
  {
   "cell_type": "markdown",
   "metadata": {
    "colab_type": "text",
    "id": "TWcyr62riy2Q"
   },
   "source": [
    "### Lambda Functions"
   ]
  },
  {
   "cell_type": "markdown",
   "metadata": {
    "colab_type": "text",
    "id": "jOl8G6iziy2R"
   },
   "source": [
    "Anonymous functions or no name functions, which can be considered when you use a function only once.\n",
    "\n",
    "**Example:**\n",
    "\n",
    "f = lambda x, y : x + y\n",
    "\n",
    "f(1,1)\n",
    "\n",
    "2\n"
   ]
  },
  {
   "cell_type": "markdown",
   "metadata": {
    "colab_type": "text",
    "id": "7DzO4sKliy2R"
   },
   "source": [
    "### Question 8\n",
    "\n",
    "Write the same above **sum_3** function using lambda."
   ]
  },
  {
   "cell_type": "code",
   "execution_count": null,
   "metadata": {
    "colab": {},
    "colab_type": "code",
    "id": "ZHzVgTS1iy2S"
   },
   "outputs": [],
   "source": [
    "# The syntax of lambda function is :\n",
    "#     lambda arguments: expression\n",
    "f = lambda x,y,z: x+y+z     # Here arguments are x, y, z and the expression to calculate is x+y+z."
   ]
  },
  {
   "cell_type": "code",
   "execution_count": null,
   "metadata": {
    "colab": {
     "base_uri": "https://localhost:8080/",
     "height": 34
    },
    "colab_type": "code",
    "id": "KzyzUKUFiy2U",
    "outputId": "cfcc5110-311b-45aa-9d69-e51354e1ffcb"
   },
   "outputs": [
    {
     "data": {
      "text/plain": [
       "6"
      ]
     },
     "execution_count": 21,
     "metadata": {
      "tags": []
     },
     "output_type": "execute_result"
    }
   ],
   "source": [
    "f(1,2,3)"
   ]
  },
  {
   "cell_type": "markdown",
   "metadata": {
    "colab_type": "text",
    "id": "y804edh6u-WZ"
   },
   "source": [
    "### List Comprehension:\n",
    "\n"
   ]
  },
  {
   "cell_type": "markdown",
   "metadata": {
    "colab_type": "text",
    "id": "DDUT-vUGvwCm"
   },
   "source": [
    "List comprehensions provide a concise way to create lists. Common applications are to make new lists where each element is the result of some operations applied to each member of another sequence or iterable, or to create a subsequence of those elements that satisfy a certain condition.\n",
    "\n",
    "For example, assume we want to create a list of squares, like:"
   ]
  },
  {
   "cell_type": "code",
   "execution_count": null,
   "metadata": {
    "colab": {
     "base_uri": "https://localhost:8080/",
     "height": 34
    },
    "colab_type": "code",
    "id": "WIN2foU_v1aE",
    "outputId": "0ffae6ef-1a2e-4a2c-e4cb-2236875fe37a"
   },
   "outputs": [
    {
     "name": "stdout",
     "output_type": "stream",
     "text": [
      "[0, 1, 4, 9, 16, 25, 36, 49, 64, 81]\n"
     ]
    }
   ],
   "source": [
    "squares = [x**2 for x in range(10)]\n",
    "print(squares)"
   ]
  },
  {
   "cell_type": "code",
   "execution_count": null,
   "metadata": {
    "colab": {},
    "colab_type": "code",
    "id": "vxnZUDxfu_cr"
   },
   "outputs": [],
   "source": [
    "L = [1, 2, 3, 4, 5]                             # list of integers from 1 to 5\n",
    "\n",
    "# Converting integers to string \n",
    "L = [str(c) for c in L]                         # this style of handling lists is known as list comprehension."
   ]
  },
  {
   "cell_type": "code",
   "execution_count": null,
   "metadata": {
    "colab": {
     "base_uri": "https://localhost:8080/",
     "height": 34
    },
    "colab_type": "code",
    "id": "qfDkEUFwvSuI",
    "outputId": "7bf4a28f-b56a-4716-a80c-8013d1729c42"
   },
   "outputs": [
    {
     "data": {
      "text/plain": [
       "[str, str, str, str, str]"
      ]
     },
     "execution_count": 24,
     "metadata": {
      "tags": []
     },
     "output_type": "execute_result"
    }
   ],
   "source": [
    "# List comprehension offers a versatile way to handle list manipulations tasks easily.\n",
    "[type(item) for item in L]                  # Check the data-type of each element of the list."
   ]
  }
 ],
 "metadata": {
  "colab": {
   "collapsed_sections": [],
   "name": "PE_Data_structures_in_Python_Solutions.ipynb",
   "provenance": []
  },
  "kernelspec": {
   "display_name": "Python 3",
   "language": "python",
   "name": "python3"
  },
  "language_info": {
   "codemirror_mode": {
    "name": "ipython",
    "version": 3
   },
   "file_extension": ".py",
   "mimetype": "text/x-python",
   "name": "python",
   "nbconvert_exporter": "python",
   "pygments_lexer": "ipython3",
   "version": "3.8.5"
  }
 },
 "nbformat": 4,
 "nbformat_minor": 1
}
